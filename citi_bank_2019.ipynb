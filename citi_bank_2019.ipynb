{
 "cells": [
  {
   "cell_type": "code",
   "execution_count": 1,
   "metadata": {},
   "outputs": [],
   "source": [
    "# Dependencies\n",
    "\n",
    "import pandas as pd\n"
   ]
  },
  {
   "cell_type": "code",
   "execution_count": 2,
   "metadata": {},
   "outputs": [],
   "source": [
    "jan19= pd.read_csv(\"201901-citibike-tripdata.csv\")\n",
    "feb19= pd.read_csv(\"201902-citibike-tripdata.csv\")\n",
    "mar19= pd.read_csv(\"JC-201903-citibike-tripdata.csv\")\n",
    "apr19= pd.read_csv(\"JC-201904-citibike-tripdata.csv\")\n",
    "may19= pd.read_csv(\"JC-201905-citibike-tripdata.csv\")\n",
    "jun19= pd.read_csv(\"JC-201906-citibike-tripdata.csv\")\n",
    "jul19= pd.read_csv(\"JC-201907-citibike-tripdata.csv\")\n",
    "agu19= pd.read_csv(\"JC-201908-citibike-tripdata.csv\")\n",
    "sep19= pd.read_csv(\"JC-201909-citibike-tripdata.csv\")\n",
    "oct19= pd.read_csv(\"JC-201910-citibike-tripdata.csv\")\n",
    "nov19= pd.read_csv(\"JC-201911-citibike-tripdata.csv\")\n",
    "dec19= pd.read_csv(\"JC-201912-citibike-tripdata.csv\")"
   ]
  },
  {
   "cell_type": "code",
   "execution_count": 3,
   "metadata": {},
   "outputs": [],
   "source": [
    "citibike_df_2019 = pd.concat([jan19,feb19,mar19,apr19,may19,jun19,jul19,agu19,sep19,oct19,nov19,dec19])"
   ]
  },
  {
   "cell_type": "code",
   "execution_count": 4,
   "metadata": {
    "scrolled": false
   },
   "outputs": [
    {
     "data": {
      "text/plain": [
       "tripduration               2277737\n",
       "starttime                  2277737\n",
       "stoptime                   2277737\n",
       "start station id           2277710\n",
       "start station name         2277710\n",
       "start station latitude     2277737\n",
       "start station longitude    2277737\n",
       "end station id             2277710\n",
       "end station name           2277710\n",
       "end station latitude       2277737\n",
       "end station longitude      2277737\n",
       "bikeid                     2277737\n",
       "usertype                   2277737\n",
       "birth year                 2277737\n",
       "gender                     2277737\n",
       "dtype: int64"
      ]
     },
     "execution_count": 4,
     "metadata": {},
     "output_type": "execute_result"
    }
   ],
   "source": [
    "citibike_df_2019.count()"
   ]
  },
  {
   "cell_type": "code",
   "execution_count": 6,
   "metadata": {},
   "outputs": [],
   "source": [
    "# Export to csv\n",
    "citibike_df_2019.to_csv(\"data_2019.csv\")"
   ]
  },
  {
   "cell_type": "code",
   "execution_count": null,
   "metadata": {},
   "outputs": [],
   "source": []
  }
 ],
 "metadata": {
  "kernelspec": {
   "display_name": "pandas_Hw",
   "language": "python",
   "name": "other-env"
  },
  "language_info": {
   "codemirror_mode": {
    "name": "ipython",
    "version": 2
   },
   "file_extension": ".py",
   "mimetype": "text/x-python",
   "name": "python",
   "nbconvert_exporter": "python",
   "pygments_lexer": "ipython2",
   "version": "2.7.17"
  }
 },
 "nbformat": 4,
 "nbformat_minor": 4
}
